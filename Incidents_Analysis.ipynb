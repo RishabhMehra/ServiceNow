{
  "nbformat": 4,
  "nbformat_minor": 0,
  "metadata": {
    "colab": {
      "name": "Incidents Analysis",
      "provenance": []
    },
    "kernelspec": {
      "name": "python3",
      "display_name": "Python 3"
    },
    "language_info": {
      "name": "python"
    }
  },
  "cells": [
    {
      "cell_type": "code",
      "metadata": {
        "id": "hIrBwIsAZv1g"
      },
      "source": [
        "import pandas as pd\n",
        "import numpy as np\n",
        "import matplotlib.pyplot as plt \n",
        "from google.colab import files\n",
        "import io\n",
        "%matplotlib inline"
      ],
      "execution_count": null,
      "outputs": []
    },
    {
      "cell_type": "code",
      "metadata": {
        "colab": {
          "resources": {
            "http://localhost:8080/nbextensions/google.colab/files.js": {
              "data": "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",
              "ok": true,
              "headers": [
                [
                  "content-type",
                  "application/javascript"
                ]
              ],
              "status": 200,
              "status_text": "OK"
            }
          },
          "base_uri": "https://localhost:8080/",
          "height": 72
        },
        "id": "BUVEuwXcaMPs",
        "outputId": "c12dfc56-4140-40e0-f99e-85b2d6be147e"
      },
      "source": [
        "uploaded = files.upload()\n",
        "\n"
      ],
      "execution_count": null,
      "outputs": [
        {
          "output_type": "display_data",
          "data": {
            "text/html": [
              "\n",
              "     <input type=\"file\" id=\"files-c9704ca5-8a18-436a-97a9-b2344e0feded\" name=\"files[]\" multiple disabled\n",
              "        style=\"border:none\" />\n",
              "     <output id=\"result-c9704ca5-8a18-436a-97a9-b2344e0feded\">\n",
              "      Upload widget is only available when the cell has been executed in the\n",
              "      current browser session. Please rerun this cell to enable.\n",
              "      </output>\n",
              "      <script src=\"/nbextensions/google.colab/files.js\"></script> "
            ],
            "text/plain": [
              "<IPython.core.display.HTML object>"
            ]
          },
          "metadata": {
            "tags": []
          }
        },
        {
          "output_type": "stream",
          "text": [
            "Saving Incident_2021.xlsx to Incident_2021.xlsx\n"
          ],
          "name": "stdout"
        }
      ]
    },
    {
      "cell_type": "code",
      "metadata": {
        "id": "sZQ806Jua-tA"
      },
      "source": [
        "df = pd.read_excel(io.BytesIO(uploaded['Incident_2021.xlsx']))"
      ],
      "execution_count": null,
      "outputs": []
    },
    {
      "cell_type": "code",
      "metadata": {
        "colab": {
          "base_uri": "https://localhost:8080/"
        },
        "id": "P5ujsP-YbeJW",
        "outputId": "58001ff8-45a5-40ee-cc0f-90ec70a3f611"
      },
      "source": [
        "df.info()"
      ],
      "execution_count": null,
      "outputs": [
        {
          "output_type": "stream",
          "text": [
            "<class 'pandas.core.frame.DataFrame'>\n",
            "RangeIndex: 715 entries, 0 to 714\n",
            "Data columns (total 8 columns):\n",
            " #   Column                  Non-Null Count  Dtype         \n",
            "---  ------                  --------------  -----         \n",
            " 0   Number                  715 non-null    object        \n",
            " 1   Assigned to             715 non-null    object        \n",
            " 2   Created                 715 non-null    datetime64[ns]\n",
            " 3   Description             715 non-null    object        \n",
            " 4   Resolved                715 non-null    datetime64[ns]\n",
            " 5   Classification level 2  653 non-null    object        \n",
            " 6   Created by              715 non-null    object        \n",
            " 7   Short description       715 non-null    object        \n",
            "dtypes: datetime64[ns](2), object(6)\n",
            "memory usage: 44.8+ KB\n"
          ],
          "name": "stdout"
        }
      ]
    },
    {
      "cell_type": "code",
      "metadata": {
        "colab": {
          "base_uri": "https://localhost:8080/"
        },
        "id": "0MLvnDVDdTF6",
        "outputId": "da2f8a3f-4f76-49f6-f9be-32fc44c58753"
      },
      "source": [
        "df['Classification level 2'].value_counts()"
      ],
      "execution_count": null,
      "outputs": [
        {
          "output_type": "execute_result",
          "data": {
            "text/plain": [
              "Misc Tasks                                         127\n",
              "Request Tracker                                    108\n",
              "Production Monitoring                              102\n",
              "FRICE Tracker                                       77\n",
              "Purchase Order                                      46\n",
              "Invoice Ingestion                                   36\n",
              "Journal Entry                                       31\n",
              "Stamp & Pay                                         23\n",
              "Auto Write-Off                                      15\n",
              "One Timer                                           14\n",
              "ECAR                                                14\n",
              "Pre- Payment                                        11\n",
              "Auto Pay Sampling                                    9\n",
              "Customer Master                                      8\n",
              "Emergency Payment                                    5\n",
              "SharePoint                                           5\n",
              "OTIS K2 Global Worflow NAA Purchase Requisition      4\n",
              "Policy Deviation                                     4\n",
              "Payee Control                                        2\n",
              "QlikView                                             2\n",
              "Deployment                                           2\n",
              "NAA Supplier Add Change                              2\n",
              "OTIS K2 Global Worflow QlikView Access Request       1\n",
              "Vendor Master Maintenance                            1\n",
              "Professional Services Request                        1\n",
              "Vendor Master                                        1\n",
              "Customer Refund                                      1\n",
              "Deutschland Workflow                                 1\n",
              "Name: Classification level 2, dtype: int64"
            ]
          },
          "metadata": {
            "tags": []
          },
          "execution_count": 9
        }
      ]
    },
    {
      "cell_type": "code",
      "metadata": {
        "id": "Pul3623aij-V",
        "colab": {
          "base_uri": "https://localhost:8080/",
          "height": 462
        },
        "outputId": "0b70d794-b677-488b-b4e8-b079ab843c13"
      },
      "source": [
        "df.head()"
      ],
      "execution_count": null,
      "outputs": [
        {
          "output_type": "execute_result",
          "data": {
            "text/html": [
              "<div>\n",
              "<style scoped>\n",
              "    .dataframe tbody tr th:only-of-type {\n",
              "        vertical-align: middle;\n",
              "    }\n",
              "\n",
              "    .dataframe tbody tr th {\n",
              "        vertical-align: top;\n",
              "    }\n",
              "\n",
              "    .dataframe thead th {\n",
              "        text-align: right;\n",
              "    }\n",
              "</style>\n",
              "<table border=\"1\" class=\"dataframe\">\n",
              "  <thead>\n",
              "    <tr style=\"text-align: right;\">\n",
              "      <th></th>\n",
              "      <th>Number</th>\n",
              "      <th>Assigned to</th>\n",
              "      <th>Created</th>\n",
              "      <th>Description</th>\n",
              "      <th>Resolved</th>\n",
              "      <th>Classification level 2</th>\n",
              "      <th>Created by</th>\n",
              "      <th>Short description</th>\n",
              "    </tr>\n",
              "  </thead>\n",
              "  <tbody>\n",
              "    <tr>\n",
              "      <th>0</th>\n",
              "      <td>INC3866790</td>\n",
              "      <td>Nandigama Sai Swetha</td>\n",
              "      <td>2021-01-01 14:33:16</td>\n",
              "      <td>OUSPXA40.otis.utc.com\\n\\nOUSPXA41.otis.utc.com...</td>\n",
              "      <td>2021-01-01 14:33:39</td>\n",
              "      <td>Production Monitoring</td>\n",
              "      <td>Nandigama.SaiSwetha@otis.com</td>\n",
              "      <td>PD K2 Environment Validation</td>\n",
              "    </tr>\n",
              "    <tr>\n",
              "      <th>1</th>\n",
              "      <td>INC3866878</td>\n",
              "      <td>Asha Sasi</td>\n",
              "      <td>2021-01-02 00:47:59</td>\n",
              "      <td>OUSPXA3R\\nOUSPXA3S\\nOUSPXABW\\nOUSPXABX\\nOUSPXA...</td>\n",
              "      <td>2021-01-02 00:49:12</td>\n",
              "      <td>Misc Tasks</td>\n",
              "      <td>Asha.Sasi@otis.com</td>\n",
              "      <td>Operation Activity - Environment Validation</td>\n",
              "    </tr>\n",
              "    <tr>\n",
              "      <th>2</th>\n",
              "      <td>INC3866920</td>\n",
              "      <td>Nandigama Sai Swetha</td>\n",
              "      <td>2021-01-02 14:23:28</td>\n",
              "      <td>OUSPXAC5.otis.com\\n\\nOUSPXAC2.otis.com\\n\\nOUSP...</td>\n",
              "      <td>2021-01-02 14:23:53</td>\n",
              "      <td>Production Monitoring</td>\n",
              "      <td>Nandigama.SaiSwetha@otis.com</td>\n",
              "      <td>PD K2 Environment Validation</td>\n",
              "    </tr>\n",
              "    <tr>\n",
              "      <th>3</th>\n",
              "      <td>INC3866938</td>\n",
              "      <td>Asha Sasi</td>\n",
              "      <td>2021-01-02 22:00:17</td>\n",
              "      <td>OUSPXA3R\\nOUSPXA3S\\nOUSPXABW\\nOUSPXABX\\nOUSPXA...</td>\n",
              "      <td>2021-01-03 00:01:01</td>\n",
              "      <td>Misc Tasks</td>\n",
              "      <td>Asha.Sasi@otis.com</td>\n",
              "      <td>Operation Activity -ENv Validation</td>\n",
              "    </tr>\n",
              "    <tr>\n",
              "      <th>4</th>\n",
              "      <td>INC3866997</td>\n",
              "      <td>Rameshbabu Chandrasekaran</td>\n",
              "      <td>2021-01-03 22:33:28</td>\n",
              "      <td>Operation Support  - Environment validation on...</td>\n",
              "      <td>2021-01-04 00:57:25</td>\n",
              "      <td>Production Monitoring</td>\n",
              "      <td>Rameshbabu.Chandrasekaran@otis.com</td>\n",
              "      <td>Operation Support  - Environment validation on...</td>\n",
              "    </tr>\n",
              "  </tbody>\n",
              "</table>\n",
              "</div>"
            ],
            "text/plain": [
              "       Number  ...                                  Short description\n",
              "0  INC3866790  ...                      PD K2 Environment Validation \n",
              "1  INC3866878  ...        Operation Activity - Environment Validation\n",
              "2  INC3866920  ...                       PD K2 Environment Validation\n",
              "3  INC3866938  ...                 Operation Activity -ENv Validation\n",
              "4  INC3866997  ...  Operation Support  - Environment validation on...\n",
              "\n",
              "[5 rows x 8 columns]"
            ]
          },
          "metadata": {
            "tags": []
          },
          "execution_count": 10
        }
      ]
    },
    {
      "cell_type": "code",
      "metadata": {
        "id": "OL4k42Kudo9F"
      },
      "source": [
        "df['TimetoResolve'] = df['Resolved'] - df['Created']"
      ],
      "execution_count": null,
      "outputs": []
    },
    {
      "cell_type": "code",
      "metadata": {
        "id": "GnNzAT-M7Zt8",
        "colab": {
          "base_uri": "https://localhost:8080/"
        },
        "outputId": "c528a2eb-ebd9-416d-f29b-9cfa5428e278"
      },
      "source": [
        "from datetime import datetime,timezone\n",
        "\n",
        "x=df['Created'][2]\n",
        "\n",
        "#date = datetime.fromtimestamp(df['Created'][5])\n",
        "x.strftime(\"%Z\")\n",
        "now = datetime.now()\n",
        "firststart = now.replace(hour=7, minute=0, second=0, microsecond=0)\n",
        "secondstart = now.replace(hour=14, minute=0, second=0, microsecond=0)\n",
        "thirdstart = now.replace(hour=23, minute=0, second=0, microsecond=0)\n",
        "if (x.time() > firststart.time() ):\n",
        "  if (x.time()<secondstart.time()):\n",
        "    print (\"First Shift\")\n",
        "  else:\n",
        "    print(\"Second Shift\")\n",
        "else:\n",
        "  print(\"Third Shift\")"
      ],
      "execution_count": null,
      "outputs": [
        {
          "output_type": "stream",
          "text": [
            "Second Shift\n"
          ],
          "name": "stdout"
        }
      ]
    },
    {
      "cell_type": "code",
      "metadata": {
        "id": "uZMwuXoUIj2a",
        "colab": {
          "base_uri": "https://localhost:8080/"
        },
        "outputId": "f64e2844-a1fb-4952-807a-52decfb9822f"
      },
      "source": [
        "int(x.strftime(\"%U\"))%4"
      ],
      "execution_count": null,
      "outputs": [
        {
          "output_type": "execute_result",
          "data": {
            "text/plain": [
              "0"
            ]
          },
          "metadata": {
            "tags": []
          },
          "execution_count": 14
        }
      ]
    },
    {
      "cell_type": "code",
      "metadata": {
        "id": "BP9X7gOlNr2A",
        "colab": {
          "base_uri": "https://localhost:8080/"
        },
        "outputId": "7fc9457b-f8a7-498e-fc8c-e3b64f89f7b2"
      },
      "source": [
        "print(x)\n",
        "format = \"%Y-%m-%d %H:%M:%S %Z%z\"\n",
        "from pytz import timezone\n",
        "timezone = timezone(\"UTC\")\n",
        "x = timezone.localize(x)\n",
        "print(x.strftime(format))\n"
      ],
      "execution_count": null,
      "outputs": [
        {
          "output_type": "stream",
          "text": [
            "2021-01-02 14:23:28\n",
            "2021-01-02 14:23:28 UTC+0000\n"
          ],
          "name": "stdout"
        }
      ]
    },
    {
      "cell_type": "code",
      "metadata": {
        "id": "CpMFbvKOTEWJ",
        "colab": {
          "base_uri": "https://localhost:8080/",
          "height": 197
        },
        "outputId": "f7b80c29-0cbe-43c6-b3ac-5958c4bd4b85"
      },
      "source": [
        "y = x.astimezone(timezone('Asia/Kolkata'))\n",
        "\n",
        "print(y.strftime(format))"
      ],
      "execution_count": null,
      "outputs": [
        {
          "output_type": "error",
          "ename": "TypeError",
          "evalue": "ignored",
          "traceback": [
            "\u001b[0;31m---------------------------------------------------------------------------\u001b[0m",
            "\u001b[0;31mTypeError\u001b[0m                                 Traceback (most recent call last)",
            "\u001b[0;32m<ipython-input-16-96d4e03704b6>\u001b[0m in \u001b[0;36m<module>\u001b[0;34m()\u001b[0m\n\u001b[0;32m----> 1\u001b[0;31m \u001b[0my\u001b[0m \u001b[0;34m=\u001b[0m \u001b[0mx\u001b[0m\u001b[0;34m.\u001b[0m\u001b[0mastimezone\u001b[0m\u001b[0;34m(\u001b[0m\u001b[0mtimezone\u001b[0m\u001b[0;34m(\u001b[0m\u001b[0;34m'Asia/Kolkata'\u001b[0m\u001b[0;34m)\u001b[0m\u001b[0;34m)\u001b[0m\u001b[0;34m\u001b[0m\u001b[0;34m\u001b[0m\u001b[0m\n\u001b[0m\u001b[1;32m      2\u001b[0m \u001b[0;34m\u001b[0m\u001b[0m\n\u001b[1;32m      3\u001b[0m \u001b[0mprint\u001b[0m\u001b[0;34m(\u001b[0m\u001b[0my\u001b[0m\u001b[0;34m.\u001b[0m\u001b[0mstrftime\u001b[0m\u001b[0;34m(\u001b[0m\u001b[0mformat\u001b[0m\u001b[0;34m)\u001b[0m\u001b[0;34m)\u001b[0m\u001b[0;34m\u001b[0m\u001b[0;34m\u001b[0m\u001b[0m\n",
            "\u001b[0;31mTypeError\u001b[0m: 'UTC' object is not callable"
          ]
        }
      ]
    },
    {
      "cell_type": "code",
      "metadata": {
        "id": "Q6I6qE6MiodI"
      },
      "source": [
        "months = list()\n",
        "days = list()\n",
        "shifts = list()\n",
        "weeks =list()\n",
        "\n",
        "def transform_date(date: list):\n",
        "  for dates in date:\n",
        "    day= dates.strftime(\"%A\")\n",
        "    month= dates.strftime(\"%B\")\n",
        "    week = int(dates.strftime(\"%U\"))%4\n",
        "    now = datetime.now()\n",
        "    firststart = now.replace(hour=7, minute=0, second=0, microsecond=0)\n",
        "    secondstart = now.replace(hour=14, minute=0, second=0, microsecond=0)\n",
        "    thirdstart = now.replace(hour=23, minute=0, second=0, microsecond=0)\n",
        "    if (dates.time() > firststart.time() ):\n",
        "      if (dates.time()< secondstart.time()):\n",
        "        shifts.append(1)\n",
        "      else:\n",
        "        shifts.append(2)\n",
        "    else:\n",
        "      shifts.append(3)\n",
        "    days.append(day)\n",
        "    weeks.append(week)\n",
        "    months.append(month)\n",
        "\n",
        "transform_date(df['Created'])"
      ],
      "execution_count": null,
      "outputs": []
    },
    {
      "cell_type": "code",
      "metadata": {
        "id": "qfxXURH66Kiq"
      },
      "source": [
        "df['Week '] = weeks\n",
        "df['Month'] =months\n",
        "df['shifts'] =shifts\n",
        "df['Day'] =days"
      ],
      "execution_count": null,
      "outputs": []
    },
    {
      "cell_type": "code",
      "metadata": {
        "id": "R8WDcZng6Q7A",
        "colab": {
          "base_uri": "https://localhost:8080/",
          "height": 462
        },
        "outputId": "f7dfc64f-0fac-4d9a-979a-c34060107483"
      },
      "source": [
        "df.head()"
      ],
      "execution_count": null,
      "outputs": [
        {
          "output_type": "execute_result",
          "data": {
            "text/html": [
              "<div>\n",
              "<style scoped>\n",
              "    .dataframe tbody tr th:only-of-type {\n",
              "        vertical-align: middle;\n",
              "    }\n",
              "\n",
              "    .dataframe tbody tr th {\n",
              "        vertical-align: top;\n",
              "    }\n",
              "\n",
              "    .dataframe thead th {\n",
              "        text-align: right;\n",
              "    }\n",
              "</style>\n",
              "<table border=\"1\" class=\"dataframe\">\n",
              "  <thead>\n",
              "    <tr style=\"text-align: right;\">\n",
              "      <th></th>\n",
              "      <th>Number</th>\n",
              "      <th>Assigned to</th>\n",
              "      <th>Created</th>\n",
              "      <th>Description</th>\n",
              "      <th>Resolved</th>\n",
              "      <th>Classification level 2</th>\n",
              "      <th>Created by</th>\n",
              "      <th>Short description</th>\n",
              "      <th>TimetoResolve</th>\n",
              "      <th>Week</th>\n",
              "      <th>Month</th>\n",
              "      <th>shifts</th>\n",
              "      <th>Day</th>\n",
              "    </tr>\n",
              "  </thead>\n",
              "  <tbody>\n",
              "    <tr>\n",
              "      <th>0</th>\n",
              "      <td>INC3866790</td>\n",
              "      <td>Nandigama Sai Swetha</td>\n",
              "      <td>2021-01-01 14:33:16</td>\n",
              "      <td>OUSPXA40.otis.utc.com\\n\\nOUSPXA41.otis.utc.com...</td>\n",
              "      <td>2021-01-01 14:33:39</td>\n",
              "      <td>Production Monitoring</td>\n",
              "      <td>Nandigama.SaiSwetha@otis.com</td>\n",
              "      <td>PD K2 Environment Validation</td>\n",
              "      <td>0 days 00:00:23</td>\n",
              "      <td>0</td>\n",
              "      <td>January</td>\n",
              "      <td>2</td>\n",
              "      <td>Friday</td>\n",
              "    </tr>\n",
              "    <tr>\n",
              "      <th>1</th>\n",
              "      <td>INC3866878</td>\n",
              "      <td>Asha Sasi</td>\n",
              "      <td>2021-01-02 00:47:59</td>\n",
              "      <td>OUSPXA3R\\nOUSPXA3S\\nOUSPXABW\\nOUSPXABX\\nOUSPXA...</td>\n",
              "      <td>2021-01-02 00:49:12</td>\n",
              "      <td>Misc Tasks</td>\n",
              "      <td>Asha.Sasi@otis.com</td>\n",
              "      <td>Operation Activity - Environment Validation</td>\n",
              "      <td>0 days 00:01:13</td>\n",
              "      <td>0</td>\n",
              "      <td>January</td>\n",
              "      <td>3</td>\n",
              "      <td>Saturday</td>\n",
              "    </tr>\n",
              "    <tr>\n",
              "      <th>2</th>\n",
              "      <td>INC3866920</td>\n",
              "      <td>Nandigama Sai Swetha</td>\n",
              "      <td>2021-01-02 14:23:28</td>\n",
              "      <td>OUSPXAC5.otis.com\\n\\nOUSPXAC2.otis.com\\n\\nOUSP...</td>\n",
              "      <td>2021-01-02 14:23:53</td>\n",
              "      <td>Production Monitoring</td>\n",
              "      <td>Nandigama.SaiSwetha@otis.com</td>\n",
              "      <td>PD K2 Environment Validation</td>\n",
              "      <td>0 days 00:00:25</td>\n",
              "      <td>0</td>\n",
              "      <td>January</td>\n",
              "      <td>2</td>\n",
              "      <td>Saturday</td>\n",
              "    </tr>\n",
              "    <tr>\n",
              "      <th>3</th>\n",
              "      <td>INC3866938</td>\n",
              "      <td>Asha Sasi</td>\n",
              "      <td>2021-01-02 22:00:17</td>\n",
              "      <td>OUSPXA3R\\nOUSPXA3S\\nOUSPXABW\\nOUSPXABX\\nOUSPXA...</td>\n",
              "      <td>2021-01-03 00:01:01</td>\n",
              "      <td>Misc Tasks</td>\n",
              "      <td>Asha.Sasi@otis.com</td>\n",
              "      <td>Operation Activity -ENv Validation</td>\n",
              "      <td>0 days 02:00:44</td>\n",
              "      <td>0</td>\n",
              "      <td>January</td>\n",
              "      <td>2</td>\n",
              "      <td>Saturday</td>\n",
              "    </tr>\n",
              "    <tr>\n",
              "      <th>4</th>\n",
              "      <td>INC3866997</td>\n",
              "      <td>Rameshbabu Chandrasekaran</td>\n",
              "      <td>2021-01-03 22:33:28</td>\n",
              "      <td>Operation Support  - Environment validation on...</td>\n",
              "      <td>2021-01-04 00:57:25</td>\n",
              "      <td>Production Monitoring</td>\n",
              "      <td>Rameshbabu.Chandrasekaran@otis.com</td>\n",
              "      <td>Operation Support  - Environment validation on...</td>\n",
              "      <td>0 days 02:23:57</td>\n",
              "      <td>1</td>\n",
              "      <td>January</td>\n",
              "      <td>2</td>\n",
              "      <td>Sunday</td>\n",
              "    </tr>\n",
              "  </tbody>\n",
              "</table>\n",
              "</div>"
            ],
            "text/plain": [
              "       Number                Assigned to  ... shifts       Day\n",
              "0  INC3866790       Nandigama Sai Swetha  ...      2    Friday\n",
              "1  INC3866878                  Asha Sasi  ...      3  Saturday\n",
              "2  INC3866920       Nandigama Sai Swetha  ...      2  Saturday\n",
              "3  INC3866938                  Asha Sasi  ...      2  Saturday\n",
              "4  INC3866997  Rameshbabu Chandrasekaran  ...      2    Sunday\n",
              "\n",
              "[5 rows x 13 columns]"
            ]
          },
          "metadata": {
            "tags": []
          },
          "execution_count": 19
        }
      ]
    },
    {
      "cell_type": "code",
      "metadata": {
        "id": "NpHnPkDOJisY",
        "colab": {
          "base_uri": "https://localhost:8080/"
        },
        "outputId": "65960b37-6c00-4329-e179-eccb9e0699df"
      },
      "source": [
        "df['shifts'].value_counts()"
      ],
      "execution_count": null,
      "outputs": [
        {
          "output_type": "execute_result",
          "data": {
            "text/plain": [
              "2    445\n",
              "1    182\n",
              "3     88\n",
              "Name: shifts, dtype: int64"
            ]
          },
          "metadata": {
            "tags": []
          },
          "execution_count": 20
        }
      ]
    },
    {
      "cell_type": "code",
      "metadata": {
        "id": "Nhqdn_W6JrNK",
        "colab": {
          "base_uri": "https://localhost:8080/"
        },
        "outputId": "3806c6ff-5590-451c-d243-0802ec1078f5"
      },
      "source": [
        "df['Week '].value_counts()"
      ],
      "execution_count": null,
      "outputs": [
        {
          "output_type": "execute_result",
          "data": {
            "text/plain": [
              "1    220\n",
              "3    185\n",
              "2    170\n",
              "0    140\n",
              "Name: Week , dtype: int64"
            ]
          },
          "metadata": {
            "tags": []
          },
          "execution_count": 21
        }
      ]
    },
    {
      "cell_type": "code",
      "metadata": {
        "id": "89XirAEbKOvH",
        "colab": {
          "base_uri": "https://localhost:8080/"
        },
        "outputId": "275200fb-5018-4369-a6a3-160377f7013a"
      },
      "source": [
        "df['Day'].value_counts()"
      ],
      "execution_count": null,
      "outputs": [
        {
          "output_type": "execute_result",
          "data": {
            "text/plain": [
              "Tuesday      143\n",
              "Wednesday    143\n",
              "Friday       142\n",
              "Monday       131\n",
              "Thursday     120\n",
              "Sunday        20\n",
              "Saturday      16\n",
              "Name: Day, dtype: int64"
            ]
          },
          "metadata": {
            "tags": []
          },
          "execution_count": 22
        }
      ]
    },
    {
      "cell_type": "code",
      "metadata": {
        "id": "g9UGU4O6LY8Y",
        "colab": {
          "base_uri": "https://localhost:8080/"
        },
        "outputId": "cc3bd4c9-f025-4d50-c54e-9b9bacdf6bde"
      },
      "source": [
        "df['Month'].value_counts()"
      ],
      "execution_count": null,
      "outputs": [
        {
          "output_type": "execute_result",
          "data": {
            "text/plain": [
              "March       192\n",
              "April       183\n",
              "February    173\n",
              "January     156\n",
              "May          11\n",
              "Name: Month, dtype: int64"
            ]
          },
          "metadata": {
            "tags": []
          },
          "execution_count": 23
        }
      ]
    },
    {
      "cell_type": "code",
      "metadata": {
        "id": "5FW06nJuMzEE"
      },
      "source": [
        ""
      ],
      "execution_count": null,
      "outputs": []
    }
  ]
}